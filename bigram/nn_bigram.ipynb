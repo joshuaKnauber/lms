{
 "cells": [
  {
   "cell_type": "code",
   "execution_count": 106,
   "metadata": {},
   "outputs": [],
   "source": [
    "if not \"working_directory_corrected\" in vars():\n",
    "    %cd ..\n",
    "    working_directory_corrected = True"
   ]
  },
  {
   "attachments": {},
   "cell_type": "markdown",
   "metadata": {},
   "source": [
    "# Neural Net Bigrams\n",
    "- same approach as with the pure bigram model based on the probabilities of the data set, this time with a neural net with gradient based optimization\n",
    "- idea is to predict a probability distribution based on the last character to find the new character\n",
    "- the model is trained on list of names with the average negative log likelihood loss function established in the previous bigram model\n",
    "- the label for each data point will be the next character"
   ]
  },
  {
   "cell_type": "code",
   "execution_count": 107,
   "metadata": {},
   "outputs": [],
   "source": [
    "import torch\n",
    "import torch.nn.functional as F\n",
    "import matplotlib.pyplot as plt"
   ]
  },
  {
   "cell_type": "code",
   "execution_count": 108,
   "metadata": {},
   "outputs": [
    {
     "data": {
      "text/plain": [
       "32033"
      ]
     },
     "execution_count": 108,
     "metadata": {},
     "output_type": "execute_result"
    }
   ],
   "source": [
    "names = open(\"data/names.txt\").read().splitlines()\n",
    "len(names)"
   ]
  },
  {
   "cell_type": "code",
   "execution_count": 109,
   "metadata": {},
   "outputs": [],
   "source": [
    "chars = [\".\"] + sorted(list(set(\"\".join(names))))\n",
    "char2idx = {c: i for i, c in enumerate(chars)}\n",
    "idx2char = {i: c for c, i in char2idx.items()}"
   ]
  },
  {
   "cell_type": "code",
   "execution_count": 110,
   "metadata": {},
   "outputs": [
    {
     "name": "stdout",
     "output_type": "stream",
     "text": [
      ". e\n",
      "e m\n",
      "m m\n",
      "m a\n",
      "a .\n"
     ]
    }
   ],
   "source": [
    "# training set\n",
    "\n",
    "xs, ys = [], []\n",
    "\n",
    "for name in names[:1]:\n",
    "    chrs = [\".\"] + list(name) + [\".\"]\n",
    "    for ch1, ch2 in zip(chrs, chrs[1:]):\n",
    "        idx1 = char2idx[ch1]\n",
    "        idx2 = char2idx[ch2]\n",
    "        print(ch1, ch2)\n",
    "        xs.append(idx1)\n",
    "        ys.append(idx2)\n",
    "\n",
    "xs = torch.tensor(xs)\n",
    "ys = torch.tensor(ys)"
   ]
  },
  {
   "cell_type": "code",
   "execution_count": 111,
   "metadata": {},
   "outputs": [
    {
     "data": {
      "text/plain": [
       "(tensor([ 0,  5, 13, 13,  1]), tensor([ 5, 13, 13,  1,  0]))"
      ]
     },
     "execution_count": 111,
     "metadata": {},
     "output_type": "execute_result"
    }
   ],
   "source": [
    "xs, ys"
   ]
  },
  {
   "cell_type": "code",
   "execution_count": 112,
   "metadata": {},
   "outputs": [
    {
     "data": {
      "text/plain": [
       "torch.Size([5])"
      ]
     },
     "execution_count": 112,
     "metadata": {},
     "output_type": "execute_result"
    }
   ],
   "source": [
    "xs.shape"
   ]
  },
  {
   "cell_type": "code",
   "execution_count": 113,
   "metadata": {},
   "outputs": [
    {
     "data": {
      "text/plain": [
       "torch.Size([5, 27])"
      ]
     },
     "execution_count": 113,
     "metadata": {},
     "output_type": "execute_result"
    }
   ],
   "source": [
    "x_enc = F.one_hot(xs, num_classes=27).float() # casting to float so nn can work with it\n",
    "x_enc.shape"
   ]
  },
  {
   "cell_type": "code",
   "execution_count": 114,
   "metadata": {},
   "outputs": [
    {
     "data": {
      "text/plain": [
       "tensor([[1., 0., 0., 0., 0., 0., 0., 0., 0., 0., 0., 0., 0., 0., 0., 0., 0., 0.,\n",
       "         0., 0., 0., 0., 0., 0., 0., 0., 0.],\n",
       "        [0., 0., 0., 0., 0., 1., 0., 0., 0., 0., 0., 0., 0., 0., 0., 0., 0., 0.,\n",
       "         0., 0., 0., 0., 0., 0., 0., 0., 0.],\n",
       "        [0., 0., 0., 0., 0., 0., 0., 0., 0., 0., 0., 0., 0., 1., 0., 0., 0., 0.,\n",
       "         0., 0., 0., 0., 0., 0., 0., 0., 0.],\n",
       "        [0., 0., 0., 0., 0., 0., 0., 0., 0., 0., 0., 0., 0., 1., 0., 0., 0., 0.,\n",
       "         0., 0., 0., 0., 0., 0., 0., 0., 0.],\n",
       "        [0., 1., 0., 0., 0., 0., 0., 0., 0., 0., 0., 0., 0., 0., 0., 0., 0., 0.,\n",
       "         0., 0., 0., 0., 0., 0., 0., 0., 0.]])"
      ]
     },
     "execution_count": 114,
     "metadata": {},
     "output_type": "execute_result"
    }
   ],
   "source": [
    "x_enc"
   ]
  },
  {
   "cell_type": "code",
   "execution_count": 115,
   "metadata": {},
   "outputs": [
    {
     "data": {
      "text/plain": [
       "<matplotlib.image.AxesImage at 0x154a069dc30>"
      ]
     },
     "execution_count": 115,
     "metadata": {},
     "output_type": "execute_result"
    },
    {
     "data": {
      "image/png": "[encoded data removed]",
      "text/plain": [
       "<Figure size 640x480 with 1 Axes>"
      ]
     },
     "metadata": {},
     "output_type": "display_data"
    }
   ],
   "source": [
    "plt.imshow(x_enc)"
   ]
  },
  {
   "cell_type": "code",
   "execution_count": 116,
   "metadata": {},
   "outputs": [
    {
     "data": {
      "text/plain": [
       "(tensor([[1., 0., 0., 0., 0., 0., 0., 0., 0., 0., 0., 0., 0., 0., 0., 0., 0., 0.,\n",
       "          0., 0., 0., 0., 0., 0., 0., 0., 0.],\n",
       "         [0., 0., 0., 0., 0., 1., 0., 0., 0., 0., 0., 0., 0., 0., 0., 0., 0., 0.,\n",
       "          0., 0., 0., 0., 0., 0., 0., 0., 0.],\n",
       "         [0., 0., 0., 0., 0., 0., 0., 0., 0., 0., 0., 0., 0., 1., 0., 0., 0., 0.,\n",
       "          0., 0., 0., 0., 0., 0., 0., 0., 0.],\n",
       "         [0., 0., 0., 0., 0., 0., 0., 0., 0., 0., 0., 0., 0., 1., 0., 0., 0., 0.,\n",
       "          0., 0., 0., 0., 0., 0., 0., 0., 0.],\n",
       "         [0., 1., 0., 0., 0., 0., 0., 0., 0., 0., 0., 0., 0., 0., 0., 0., 0., 0.,\n",
       "          0., 0., 0., 0., 0., 0., 0., 0., 0.]]),\n",
       " tensor([[-4.4146e-01],\n",
       "         [ 1.5231e-01],\n",
       "         [-1.4494e+00],\n",
       "         [ 2.7560e-01],\n",
       "         [ 5.6116e-01],\n",
       "         [-1.1113e+00],\n",
       "         [ 7.7931e-01],\n",
       "         [ 2.4191e+00],\n",
       "         [-1.0940e+00],\n",
       "         [ 1.5545e-01],\n",
       "         [-2.3725e+00],\n",
       "         [-1.3023e-03],\n",
       "         [-1.1881e+00],\n",
       "         [ 8.5135e-02],\n",
       "         [-1.9048e+00],\n",
       "         [ 2.9070e-01],\n",
       "         [-3.5313e-01],\n",
       "         [-1.0722e+00],\n",
       "         [-5.1447e-01],\n",
       "         [-7.4201e-02],\n",
       "         [ 2.2884e+00],\n",
       "         [-2.9785e-01],\n",
       "         [-1.9074e+00],\n",
       "         [-1.4741e+00],\n",
       "         [-1.1165e+00],\n",
       "         [-1.0543e+00],\n",
       "         [-1.2944e+00]]))"
      ]
     },
     "execution_count": 116,
     "metadata": {},
     "output_type": "execute_result"
    }
   ],
   "source": [
    "x_enc, torch.randn((27, 1))"
   ]
  },
  {
   "cell_type": "code",
   "execution_count": 117,
   "metadata": {},
   "outputs": [
    {
     "data": {
      "text/plain": [
       "tensor([[ 1.0084],\n",
       "        [-0.5313],\n",
       "        [-2.1653],\n",
       "        [-2.1653],\n",
       "        [-0.5696]])"
      ]
     },
     "execution_count": 117,
     "metadata": {},
     "output_type": "execute_result"
    }
   ],
   "source": [
    "# initializing weights\n",
    "# doing matrix multiplication with the encoded x's (batch of multiple)\n",
    "# this will feed in all x's into every neuron at the same time, pytorch can do this in parallel\n",
    "\n",
    "# x_enc (5, 27) @ weights (27, 1) -> (5, 1)\n",
    "\n",
    "W = torch.randn((27, 1)) # -> one neuron, 27 inputs, one for each possible character\n",
    "x_enc @ W # returns (5, 1) for 5 input x's, one activation which is dot product between the encoded x and the weights"
   ]
  },
  {
   "cell_type": "code",
   "execution_count": 118,
   "metadata": {},
   "outputs": [
    {
     "data": {
      "text/plain": [
       "tensor([[-0.5996,  1.0208, -0.3593, -0.2678, -1.4562,  0.7491,  1.3048, -0.3991,\n",
       "          1.4082, -0.8975, -0.5598,  0.3048, -2.1028, -1.1919,  1.6081, -0.8740,\n",
       "          0.5782, -1.4467,  0.3671, -2.0086, -0.8246,  1.2905, -1.0359,  0.9531,\n",
       "         -1.2308,  0.3878,  1.9702],\n",
       "        [-0.2209,  0.4474,  0.3278,  2.4503, -0.6734, -1.6493,  0.5323, -0.9814,\n",
       "         -0.2742, -1.3150,  0.6342, -0.2930, -0.8035,  0.4831, -0.1035,  1.1340,\n",
       "         -1.1494, -0.7491, -0.6364, -1.9128, -0.2590,  0.9590, -0.2037, -0.6917,\n",
       "          1.0863, -2.2623,  0.1662],\n",
       "        [ 0.2401, -0.4756, -0.2860, -0.0945,  1.0118, -1.1178, -1.3437,  0.3383,\n",
       "         -1.4291, -0.9784, -1.0982,  0.2308, -2.2329, -1.6857,  0.9106,  0.1198,\n",
       "          0.2822,  0.1316, -0.5156, -0.4164, -0.4640, -0.1477,  2.0853,  0.4599,\n",
       "          0.8305, -0.0140,  0.4603],\n",
       "        [ 0.2401, -0.4756, -0.2860, -0.0945,  1.0118, -1.1178, -1.3437,  0.3383,\n",
       "         -1.4291, -0.9784, -1.0982,  0.2308, -2.2329, -1.6857,  0.9106,  0.1198,\n",
       "          0.2822,  0.1316, -0.5156, -0.4164, -0.4640, -0.1477,  2.0853,  0.4599,\n",
       "          0.8305, -0.0140,  0.4603],\n",
       "        [-0.8805,  0.0467, -0.7287,  0.0315,  0.2370, -0.7716, -2.2913,  0.8501,\n",
       "          0.8176,  0.3070, -0.2449,  0.2545, -1.0376, -0.5935, -0.6045, -2.3983,\n",
       "         -0.4927,  2.2502, -0.0251,  1.1727, -0.7952,  0.6557,  0.6983, -0.2961,\n",
       "          0.2955,  0.1841,  0.4969]])"
      ]
     },
     "execution_count": 118,
     "metadata": {},
     "output_type": "execute_result"
    }
   ],
   "source": [
    "# x_enc (5, 27) @ weights (27, 27) -> (5, 27)\n",
    "# same but with 27 neurons\n",
    "\n",
    "W = torch.randn((27, 27))\n",
    "x_enc @ W"
   ]
  },
  {
   "cell_type": "code",
   "execution_count": 119,
   "metadata": {},
   "outputs": [
    {
     "data": {
      "text/plain": [
       "torch.Size([5, 27])"
      ]
     },
     "execution_count": 119,
     "metadata": {},
     "output_type": "execute_result"
    }
   ],
   "source": [
    "(x_enc @ W).shape"
   ]
  },
  {
   "cell_type": "code",
   "execution_count": 120,
   "metadata": {},
   "outputs": [
    {
     "data": {
      "text/plain": [
       "tensor(-1.6857)"
      ]
     },
     "execution_count": 120,
     "metadata": {},
     "output_type": "execute_result"
    }
   ],
   "source": [
    "(x_enc @ W)[3, 13] # 3rd x, 13th neuron"
   ]
  },
  {
   "cell_type": "code",
   "execution_count": 121,
   "metadata": {},
   "outputs": [],
   "source": [
    "# W has weights in columns, each col is a neuron\n",
    "# input has same number of columns as number of rows in W -> each row in x_enc is dotted with each row in W"
   ]
  },
  {
   "cell_type": "code",
   "execution_count": 122,
   "metadata": {},
   "outputs": [
    {
     "data": {
      "text/plain": [
       "tensor([0., 0., 0., 0., 0., 0., 0., 0., 0., 0., 0., 0., 0., 1., 0., 0., 0., 0.,\n",
       "        0., 0., 0., 0., 0., 0., 0., 0., 0.])"
      ]
     },
     "execution_count": 122,
     "metadata": {},
     "output_type": "execute_result"
    }
   ],
   "source": [
    "x_enc[3]"
   ]
  },
  {
   "cell_type": "code",
   "execution_count": 123,
   "metadata": {},
   "outputs": [
    {
     "data": {
      "text/plain": [
       "tensor([ 0.2401, -0.4756, -0.2860, -0.0945,  1.0118, -1.1178, -1.3437,  0.3383,\n",
       "        -1.4291, -0.9784, -1.0982,  0.2308, -2.2329, -1.6857,  0.9106,  0.1198,\n",
       "         0.2822,  0.1316, -0.5156, -0.4164, -0.4640, -0.1477,  2.0853,  0.4599,\n",
       "         0.8305, -0.0140,  0.4603])"
      ]
     },
     "execution_count": 123,
     "metadata": {},
     "output_type": "execute_result"
    }
   ],
   "source": [
    "W[13]"
   ]
  },
  {
   "cell_type": "code",
   "execution_count": 124,
   "metadata": {},
   "outputs": [
    {
     "data": {
      "text/plain": [
       "tensor(-1.6857)"
      ]
     },
     "execution_count": 124,
     "metadata": {},
     "output_type": "execute_result"
    }
   ],
   "source": [
    "(x_enc[3] * W[:, 13]).sum()"
   ]
  },
  {
   "cell_type": "code",
   "execution_count": 125,
   "metadata": {},
   "outputs": [
    {
     "data": {
      "text/plain": [
       "tensor([[ 0.5491,  2.7755,  0.6982,  0.7650,  0.2331,  2.1152,  3.6869,  0.6709,\n",
       "          4.0884,  0.4076,  0.5713,  1.3564,  0.1221,  0.3037,  4.9931,  0.4173,\n",
       "          1.7828,  0.2354,  1.4435,  0.1342,  0.4384,  3.6346,  0.3549,  2.5937,\n",
       "          0.2920,  1.4738,  7.1724],\n",
       "        [ 0.8018,  1.5642,  1.3879, 11.5914,  0.5100,  0.1922,  1.7028,  0.3748,\n",
       "          0.7602,  0.2685,  1.8855,  0.7460,  0.4478,  1.6210,  0.9017,  3.1081,\n",
       "          0.3168,  0.4728,  0.5292,  0.1477,  0.7718,  2.6090,  0.8157,  0.5007,\n",
       "          2.9632,  0.1041,  1.1808],\n",
       "        [ 1.2713,  0.6215,  0.7513,  0.9098,  2.7506,  0.3270,  0.2609,  1.4025,\n",
       "          0.2395,  0.3759,  0.3335,  1.2596,  0.1072,  0.1853,  2.4858,  1.1272,\n",
       "          1.3260,  1.1407,  0.5971,  0.6594,  0.6287,  0.8627,  8.0466,  1.5839,\n",
       "          2.2944,  0.9861,  1.5845],\n",
       "        [ 1.2713,  0.6215,  0.7513,  0.9098,  2.7506,  0.3270,  0.2609,  1.4025,\n",
       "          0.2395,  0.3759,  0.3335,  1.2596,  0.1072,  0.1853,  2.4858,  1.1272,\n",
       "          1.3260,  1.1407,  0.5971,  0.6594,  0.6287,  0.8627,  8.0466,  1.5839,\n",
       "          2.2944,  0.9861,  1.5845],\n",
       "        [ 0.4146,  1.0478,  0.4825,  1.0320,  1.2675,  0.4623,  0.1011,  2.3399,\n",
       "          2.2650,  1.3593,  0.7828,  1.2899,  0.3543,  0.5524,  0.5464,  0.0909,\n",
       "          0.6110,  9.4898,  0.9752,  3.2307,  0.4515,  1.9265,  2.0102,  0.7437,\n",
       "          1.3438,  1.2021,  1.6437]])"
      ]
     },
     "execution_count": 125,
     "metadata": {},
     "output_type": "execute_result"
    }
   ],
   "source": [
    "# we need something interpretable from the model\n",
    "# going back to the matrix of counts and then probs we had in the other bigram model\n",
    "# we make 27 neurons each getting 27 inputs from the one hot encoded character\n",
    "\n",
    "(x_enc @ W).exp() # exponentiate to make values negative between 0 and 1 and positive more positive<"
   ]
  },
  {
   "cell_type": "code",
   "execution_count": 126,
   "metadata": {},
   "outputs": [
    {
     "data": {
      "text/plain": [
       "torch.Size([5, 27])"
      ]
     },
     "execution_count": 126,
     "metadata": {},
     "output_type": "execute_result"
    }
   ],
   "source": [
    "(x_enc @ W).exp().shape"
   ]
  },
  {
   "cell_type": "code",
   "execution_count": 127,
   "metadata": {},
   "outputs": [
    {
     "data": {
      "text/plain": [
       "tensor([[0.0127, 0.0641, 0.0161, 0.0177, 0.0054, 0.0488, 0.0851, 0.0155, 0.0944,\n",
       "         0.0094, 0.0132, 0.0313, 0.0028, 0.0070, 0.1153, 0.0096, 0.0412, 0.0054,\n",
       "         0.0333, 0.0031, 0.0101, 0.0839, 0.0082, 0.0599, 0.0067, 0.0340, 0.1656],\n",
       "        [0.0209, 0.0409, 0.0363, 0.3028, 0.0133, 0.0050, 0.0445, 0.0098, 0.0199,\n",
       "         0.0070, 0.0493, 0.0195, 0.0117, 0.0424, 0.0236, 0.0812, 0.0083, 0.0124,\n",
       "         0.0138, 0.0039, 0.0202, 0.0682, 0.0213, 0.0131, 0.0774, 0.0027, 0.0309],\n",
       "        [0.0373, 0.0182, 0.0220, 0.0267, 0.0806, 0.0096, 0.0076, 0.0411, 0.0070,\n",
       "         0.0110, 0.0098, 0.0369, 0.0031, 0.0054, 0.0729, 0.0330, 0.0389, 0.0334,\n",
       "         0.0175, 0.0193, 0.0184, 0.0253, 0.2358, 0.0464, 0.0672, 0.0289, 0.0464],\n",
       "        [0.0373, 0.0182, 0.0220, 0.0267, 0.0806, 0.0096, 0.0076, 0.0411, 0.0070,\n",
       "         0.0110, 0.0098, 0.0369, 0.0031, 0.0054, 0.0729, 0.0330, 0.0389, 0.0334,\n",
       "         0.0175, 0.0193, 0.0184, 0.0253, 0.2358, 0.0464, 0.0672, 0.0289, 0.0464],\n",
       "        [0.0109, 0.0276, 0.0127, 0.0271, 0.0333, 0.0122, 0.0027, 0.0615, 0.0596,\n",
       "         0.0358, 0.0206, 0.0339, 0.0093, 0.0145, 0.0144, 0.0024, 0.0161, 0.2496,\n",
       "         0.0257, 0.0850, 0.0119, 0.0507, 0.0529, 0.0196, 0.0353, 0.0316, 0.0432]])"
      ]
     },
     "execution_count": 127,
     "metadata": {},
     "output_type": "execute_result"
    }
   ],
   "source": [
    "logits = x_enc @ W # log counts\n",
    "counts = logits.exp() # equivalent to counts matrix we had in other bigram model\n",
    "probs = counts / counts.sum(1, keepdims=True) # normalize again across columns to get probs\n",
    "# => this is a softmax activation function\n",
    "# > allows to take in positive and negative numbers from a previous layer and makes them into a probability distribution\n",
    "#   with numbers between 0 and 1 and that sums to 1\n",
    "probs"
   ]
  },
  {
   "cell_type": "code",
   "execution_count": 128,
   "metadata": {},
   "outputs": [
    {
     "data": {
      "text/plain": [
       "torch.Size([5, 27])"
      ]
     },
     "execution_count": 128,
     "metadata": {},
     "output_type": "execute_result"
    }
   ],
   "source": [
    "probs.shape # we get a matrix with 5 "
   ]
  },
  {
   "cell_type": "code",
   "execution_count": 129,
   "metadata": {},
   "outputs": [
    {
     "data": {
      "text/plain": [
       "tensor(1.0000)"
      ]
     },
     "execution_count": 129,
     "metadata": {},
     "output_type": "execute_result"
    }
   ],
   "source": [
    "probs[0].sum()"
   ]
  },
  {
   "cell_type": "code",
   "execution_count": 130,
   "metadata": {},
   "outputs": [
    {
     "name": "stdout",
     "output_type": "stream",
     "text": [
      "- - - - - -\n",
      "bigram: ., e at 0, y\n",
      "input: 0\n",
      "output: tensor([0.0127, 0.0641, 0.0161, 0.0177, 0.0054, 0.0488, 0.0851, 0.0155, 0.0944,\n",
      "        0.0094, 0.0132, 0.0313, 0.0028, 0.0070, 0.1153, 0.0096, 0.0412, 0.0054,\n",
      "        0.0333, 0.0031, 0.0101, 0.0839, 0.0082, 0.0599, 0.0067, 0.0340, 0.1656])\n",
      "actual: 5\n",
      "prob by nn: 0.0488387793302536\n",
      "log likelihood : -3.019230604171753\n",
      "negative log likelihood: 3.019230604171753\n",
      "- - - - - -\n",
      "bigram: e, m at 5, y\n",
      "input: 5\n",
      "output: tensor([0.0209, 0.0409, 0.0363, 0.3028, 0.0133, 0.0050, 0.0445, 0.0098, 0.0199,\n",
      "        0.0070, 0.0493, 0.0195, 0.0117, 0.0424, 0.0236, 0.0812, 0.0083, 0.0124,\n",
      "        0.0138, 0.0039, 0.0202, 0.0682, 0.0213, 0.0131, 0.0774, 0.0027, 0.0309])\n",
      "actual: 13\n",
      "prob by nn: 0.04235075041651726\n",
      "log likelihood : -3.161769151687622\n",
      "negative log likelihood: 3.161769151687622\n",
      "- - - - - -\n",
      "bigram: m, m at 13, y\n",
      "input: 13\n",
      "output: tensor([0.0373, 0.0182, 0.0220, 0.0267, 0.0806, 0.0096, 0.0076, 0.0411, 0.0070,\n",
      "        0.0110, 0.0098, 0.0369, 0.0031, 0.0054, 0.0729, 0.0330, 0.0389, 0.0334,\n",
      "        0.0175, 0.0193, 0.0184, 0.0253, 0.2358, 0.0464, 0.0672, 0.0289, 0.0464])\n",
      "actual: 13\n",
      "prob by nn: 0.005431673023849726\n",
      "log likelihood : -5.215507984161377\n",
      "negative log likelihood: 5.215507984161377\n",
      "- - - - - -\n",
      "bigram: m, a at 13, y\n",
      "input: 13\n",
      "output: tensor([0.0373, 0.0182, 0.0220, 0.0267, 0.0806, 0.0096, 0.0076, 0.0411, 0.0070,\n",
      "        0.0110, 0.0098, 0.0369, 0.0031, 0.0054, 0.0729, 0.0330, 0.0389, 0.0334,\n",
      "        0.0175, 0.0193, 0.0184, 0.0253, 0.2358, 0.0464, 0.0672, 0.0289, 0.0464])\n",
      "actual: 1\n",
      "prob by nn: 0.018216732889413834\n",
      "log likelihood : -4.0054144859313965\n",
      "negative log likelihood: 4.0054144859313965\n",
      "- - - - - -\n",
      "bigram: a, . at 1, y\n",
      "input: 1\n",
      "output: tensor([0.0109, 0.0276, 0.0127, 0.0271, 0.0333, 0.0122, 0.0027, 0.0615, 0.0596,\n",
      "        0.0358, 0.0206, 0.0339, 0.0093, 0.0145, 0.0144, 0.0024, 0.0161, 0.2496,\n",
      "        0.0257, 0.0850, 0.0119, 0.0507, 0.0529, 0.0196, 0.0353, 0.0316, 0.0432])\n",
      "actual: 0\n",
      "prob by nn: 0.010904931463301182\n",
      "log likelihood : -4.518540382385254\n",
      "negative log likelihood: 4.518540382385254\n",
      "======\n",
      "average nll/loss =  3.9840927124023438\n"
     ]
    }
   ],
   "source": [
    "nlls = torch.zeros(5)\n",
    "for i in range(5):\n",
    "    x = xs[i].item()\n",
    "    y = ys[i].item()\n",
    "    print(\"- - - - - -\")\n",
    "    print(f\"bigram: {idx2char[x]}, {idx2char[y]} at {x}, y\")\n",
    "    print(f\"input: {x}\")\n",
    "    print(f\"output: {probs[i]}\")\n",
    "    print(f\"actual: {y}\")\n",
    "    prob = probs[i, y]\n",
    "    print(f\"prob by nn: {prob}\")\n",
    "    logp = torch.log(prob)\n",
    "    print(f\"log likelihood : {logp}\")\n",
    "    nll = -logp\n",
    "    print(f\"negative log likelihood: {nll}\")\n",
    "    nlls[i] = nll\n",
    "\n",
    "print(\"======\")\n",
    "print(\"average nll/loss = \", nlls.mean().item())"
   ]
  },
  {
   "attachments": {},
   "cell_type": "markdown",
   "metadata": {},
   "source": [
    "## Optimization"
   ]
  },
  {
   "cell_type": "code",
   "execution_count": 131,
   "metadata": {},
   "outputs": [
    {
     "data": {
      "text/plain": [
       "(tensor([ 0,  5, 13, 13,  1]), tensor([ 5, 13, 13,  1,  0]))"
      ]
     },
     "execution_count": 131,
     "metadata": {},
     "output_type": "execute_result"
    }
   ],
   "source": [
    "xs, ys"
   ]
  },
  {
   "cell_type": "code",
   "execution_count": 132,
   "metadata": {},
   "outputs": [],
   "source": [
    "W = torch.randn((27, 27), requires_grad=True)"
   ]
  },
  {
   "attachments": {},
   "cell_type": "markdown",
   "metadata": {},
   "source": [
    "### Forward pass"
   ]
  },
  {
   "cell_type": "code",
   "execution_count": 133,
   "metadata": {},
   "outputs": [],
   "source": [
    "xenc = F.one_hot(xs, num_classes=27).float() # input to nn, one hot encoding\n",
    "logits = x_enc @ W # predict log counts\n",
    "counts = logits.exp() # counts equivalent to N in other bigram model\n",
    "probs = counts / counts.sum(1, keepdim=True) # probabilities for next character"
   ]
  },
  {
   "cell_type": "code",
   "execution_count": 134,
   "metadata": {},
   "outputs": [
    {
     "data": {
      "text/plain": [
       "tensor([0.0768, 0.0040, 0.0646, 0.0689, 0.1525], grad_fn=<IndexBackward0>)"
      ]
     },
     "execution_count": 134,
     "metadata": {},
     "output_type": "execute_result"
    }
   ],
   "source": [
    "probs[torch.arange(5), ys] # probabilities for the next characters for each input character"
   ]
  },
  {
   "cell_type": "code",
   "execution_count": 135,
   "metadata": {},
   "outputs": [
    {
     "data": {
      "text/plain": [
       "3.077178478240967"
      ]
     },
     "execution_count": 135,
     "metadata": {},
     "output_type": "execute_result"
    }
   ],
   "source": [
    "loss = -probs[torch.arange(5), ys].log().mean()\n",
    "loss.item()"
   ]
  },
  {
   "attachments": {},
   "cell_type": "markdown",
   "metadata": {},
   "source": [
    "### Backward pass"
   ]
  },
  {
   "cell_type": "code",
   "execution_count": 136,
   "metadata": {},
   "outputs": [],
   "source": [
    "W.grad = None # set the gradients to 0\n",
    "loss.backward() # calculate the gradients"
   ]
  },
  {
   "cell_type": "code",
   "execution_count": 137,
   "metadata": {},
   "outputs": [],
   "source": [
    "W.data += -0.1 * W.grad"
   ]
  },
  {
   "attachments": {},
   "cell_type": "markdown",
   "metadata": {},
   "source": [
    "### Repeat"
   ]
  },
  {
   "cell_type": "code",
   "execution_count": 138,
   "metadata": {},
   "outputs": [
    {
     "data": {
      "text/plain": [
       "228146"
      ]
     },
     "execution_count": 138,
     "metadata": {},
     "output_type": "execute_result"
    }
   ],
   "source": [
    "# training set\n",
    "xs, ys = [], []\n",
    "\n",
    "for name in names: # use all names this time\n",
    "    chrs = [\".\"] + list(name) + [\".\"]\n",
    "    for ch1, ch2 in zip(chrs, chrs[1:]):\n",
    "        idx1 = char2idx[ch1]\n",
    "        idx2 = char2idx[ch2]\n",
    "        xs.append(idx1)\n",
    "        ys.append(idx2)\n",
    "\n",
    "xs = torch.tensor(xs)\n",
    "ys = torch.tensor(ys)\n",
    "num = xs.nelement()\n",
    "num"
   ]
  },
  {
   "cell_type": "code",
   "execution_count": 139,
   "metadata": {},
   "outputs": [
    {
     "name": "stdout",
     "output_type": "stream",
     "text": [
      "0: 3.8108768463134766\n",
      "1: 3.4195897579193115\n",
      "2: 3.1692888736724854\n",
      "3: 3.0117223262786865\n",
      "4: 2.9107789993286133\n",
      "5: 2.837972640991211\n",
      "6: 2.7843844890594482\n",
      "7: 2.744659185409546\n",
      "8: 2.7144103050231934\n",
      "9: 2.6904869079589844\n",
      "10: 2.6708831787109375\n",
      "11: 2.6543824672698975\n",
      "12: 2.640231132507324\n",
      "13: 2.627938747406006\n",
      "14: 2.6171650886535645\n",
      "15: 2.607661008834839\n",
      "16: 2.599233388900757\n",
      "17: 2.591726064682007\n",
      "18: 2.5850095748901367\n",
      "19: 2.5789730548858643\n",
      "20: 2.57352352142334\n",
      "21: 2.5685830116271973\n",
      "22: 2.5640835762023926\n",
      "23: 2.5599710941314697\n",
      "24: 2.556197166442871\n",
      "25: 2.552722692489624\n",
      "26: 2.549513101577759\n",
      "27: 2.546539068222046\n",
      "28: 2.5437750816345215\n",
      "29: 2.5411994457244873\n",
      "30: 2.5387935638427734\n",
      "31: 2.5365402698516846\n",
      "32: 2.534425735473633\n",
      "33: 2.5324363708496094\n",
      "34: 2.530561923980713\n",
      "35: 2.5287926197052\n",
      "36: 2.5271193981170654\n",
      "37: 2.5255343914031982\n",
      "38: 2.524031400680542\n",
      "39: 2.52260422706604\n",
      "40: 2.521246910095215\n",
      "41: 2.519955635070801\n",
      "42: 2.5187246799468994\n",
      "43: 2.5175511837005615\n",
      "44: 2.516430616378784\n",
      "45: 2.515359878540039\n",
      "46: 2.514336109161377\n",
      "47: 2.5133559703826904\n",
      "48: 2.512417793273926\n",
      "49: 2.511518716812134\n",
      "50: 2.5106563568115234\n",
      "51: 2.509828567504883\n",
      "52: 2.5090339183807373\n",
      "53: 2.508270502090454\n",
      "54: 2.5075366497039795\n",
      "55: 2.5068302154541016\n",
      "56: 2.506150960922241\n",
      "57: 2.5054962635040283\n",
      "58: 2.504865884780884\n",
      "59: 2.5042576789855957\n",
      "60: 2.503671646118164\n",
      "61: 2.503105878829956\n",
      "62: 2.5025596618652344\n",
      "63: 2.502032518386841\n",
      "64: 2.5015227794647217\n",
      "65: 2.5010299682617188\n",
      "66: 2.500553607940674\n",
      "67: 2.5000927448272705\n",
      "68: 2.4996464252471924\n",
      "69: 2.4992144107818604\n",
      "70: 2.498796224594116\n",
      "71: 2.4983911514282227\n",
      "72: 2.4979982376098633\n",
      "73: 2.497617483139038\n",
      "74: 2.4972481727600098\n",
      "75: 2.496889352798462\n",
      "76: 2.4965415000915527\n",
      "77: 2.496204137802124\n",
      "78: 2.4958760738372803\n",
      "79: 2.4955575466156006\n",
      "80: 2.4952478408813477\n",
      "81: 2.4949471950531006\n",
      "82: 2.494654893875122\n",
      "83: 2.494370460510254\n",
      "84: 2.494094133377075\n",
      "85: 2.4938249588012695\n",
      "86: 2.493563413619995\n",
      "87: 2.4933087825775146\n",
      "88: 2.493060827255249\n",
      "89: 2.492819309234619\n",
      "90: 2.492584228515625\n",
      "91: 2.4923551082611084\n",
      "92: 2.4921321868896484\n",
      "93: 2.4919145107269287\n",
      "94: 2.4917025566101074\n",
      "95: 2.4914956092834473\n",
      "96: 2.4912946224212646\n",
      "97: 2.491097927093506\n",
      "98: 2.4909064769744873\n",
      "99: 2.4907195568084717\n"
     ]
    }
   ],
   "source": [
    "W = torch.randn((27, 27), requires_grad=True)\n",
    "\n",
    "losses = []\n",
    "for k in range(100):\n",
    "\n",
    "    # forward\n",
    "    x_enc = F.one_hot(xs, num_classes=27).float()\n",
    "    logits = x_enc @ W\n",
    "    counts = logits.exp()\n",
    "    probs = counts / counts.sum(1, keepdim=True)\n",
    "    loss = -probs[torch.arange(num), ys].log().mean() + 0.01*(W**2).mean() # loss + regularization (see model smoothing in other bigrams)\n",
    "\n",
    "    # backward\n",
    "    W.grad = None\n",
    "    loss.backward()\n",
    "\n",
    "    # update\n",
    "    W.data += -50 * W.grad\n",
    "\n",
    "    print(f\"{k}: {loss.item()}\")\n",
    "    losses.append(loss.item())"
   ]
  },
  {
   "cell_type": "code",
   "execution_count": 140,
   "metadata": {},
   "outputs": [
    {
     "data": {
      "text/plain": [
       "[<matplotlib.lines.Line2D at 0x154a071ad70>]"
      ]
     },
     "execution_count": 140,
     "metadata": {},
     "output_type": "execute_result"
    },
    {
     "data": {
      "image/png": "[encoded data removed]",
      "text/plain": [
       "<Figure size 640x480 with 1 Axes>"
      ]
     },
     "metadata": {},
     "output_type": "display_data"
    }
   ],
   "source": [
    "plt.plot(losses)"
   ]
  },
  {
   "attachments": {},
   "cell_type": "markdown",
   "metadata": {},
   "source": [
    "- this gets quite close to the manual approach before, this time with gradient based learning\n",
    "- makes sense that it's not better because there is no additional information\n",
    "- easier here to keep them in a table, gradient based is much more flexible in how it can be expanded\n",
    "\n",
    "- only thing that will fundamentally change is how we get logits. we can in more information here"
   ]
  },
  {
   "cell_type": "code",
   "execution_count": 141,
   "metadata": {},
   "outputs": [
    {
     "name": "stdout",
     "output_type": "stream",
     "text": [
      "eenanei.\n",
      "haiaviamethaie.\n",
      "bearunnde.\n",
      "cyr.\n",
      "iaicarimiten.\n",
      "jos.\n",
      "shan.\n",
      "styrjan.\n",
      "kaiet.\n",
      "krarincoahl.\n"
     ]
    }
   ],
   "source": [
    "for i in range(10):\n",
    "\n",
    "    out = []\n",
    "    ix = 0\n",
    "    while True:\n",
    "        x_enc = F.one_hot(torch.tensor([ix]), num_classes=27).float()\n",
    "        logits = x_enc @ W\n",
    "        counts = logits.exp()\n",
    "        probs = counts / counts.sum(1, keepdim=True)\n",
    "\n",
    "        ix = torch.multinomial(probs, num_samples=1, replacement=True).item()\n",
    "        out.append(idx2char[ix])\n",
    "        if ix == 0:\n",
    "            break\n",
    "    print(\"\".join(out))"
   ]
  }
 ],
 "metadata": {
  "kernelspec": {
   "display_name": "venv",
   "language": "python",
   "name": "python3"
  },
  "language_info": {
   "codemirror_mode": {
    "name": "ipython",
    "version": 3
   },
   "file_extension": ".py",
   "mimetype": "text/x-python",
   "name": "python",
   "nbconvert_exporter": "python",
   "pygments_lexer": "ipython3",
   "version": "3.10.7"
  },
  "orig_nbformat": 4
 },
 "nbformat": 4,
 "nbformat_minor": 2
}
