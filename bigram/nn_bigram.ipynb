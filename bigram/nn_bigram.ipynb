{
 "cells": [
  {
   "cell_type": "code",
   "execution_count": 1,
   "metadata": {},
   "outputs": [
    {
     "name": "stdout",
     "output_type": "stream",
     "text": [
      "c:\\Users\\joshu\\Desktop\\lms\n"
     ]
    }
   ],
   "source": [
    "if not \"working_directory_corrected\" in vars():\n",
    "    %cd ..\n",
    "    working_directory_corrected = True"
   ]
  },
  {
   "attachments": {},
   "cell_type": "markdown",
   "metadata": {},
   "source": [
    "# Neural Net Bigrams\n",
    "- same approach as with the pure bigram model based on the probabilities of the data set, this time with a neural net with gradient based optimization\n",
    "- idea is to predict a probability distribution based on the last character to find the new character\n",
    "- the model is trained on list of names with the average negative log likelihood loss function established in the previous bigram model\n",
    "- the label for each data point will be the next character"
   ]
  },
  {
   "cell_type": "code",
   "execution_count": 38,
   "metadata": {},
   "outputs": [],
   "source": [
    "import torch\n",
    "import torch.nn.functional as F\n",
    "import matplotlib.pyplot as plt"
   ]
  },
  {
   "cell_type": "code",
   "execution_count": 20,
   "metadata": {},
   "outputs": [
    {
     "data": {
      "text/plain": [
       "32033"
      ]
     },
     "execution_count": 20,
     "metadata": {},
     "output_type": "execute_result"
    }
   ],
   "source": [
    "names = open(\"data/names.txt\").read().splitlines()\n",
    "len(names)"
   ]
  },
  {
   "cell_type": "code",
   "execution_count": 30,
   "metadata": {},
   "outputs": [],
   "source": [
    "chars = [\".\"] + sorted(list(set(\"\".join(names))))\n",
    "char2idx = {c: i for i, c in enumerate(chars)}\n",
    "idx2char = {i: c for c, i in char2idx.items()}"
   ]
  },
  {
   "cell_type": "code",
   "execution_count": 31,
   "metadata": {},
   "outputs": [
    {
     "name": "stdout",
     "output_type": "stream",
     "text": [
      ". e\n",
      "e m\n",
      "m m\n",
      "m a\n",
      "a .\n"
     ]
    }
   ],
   "source": [
    "# training set\n",
    "\n",
    "xs, ys = [], []\n",
    "\n",
    "for name in names[:1]:\n",
    "    chrs = [\".\"] + list(name) + [\".\"]\n",
    "    for ch1, ch2 in zip(chrs, chrs[1:]):\n",
    "        idx1 = char2idx[ch1]\n",
    "        idx2 = char2idx[ch2]\n",
    "        print(ch1, ch2)\n",
    "        xs.append(idx1)\n",
    "        ys.append(idx2)\n",
    "\n",
    "xs = torch.tensor(xs)\n",
    "ys = torch.tensor(ys)"
   ]
  },
  {
   "cell_type": "code",
   "execution_count": 25,
   "metadata": {},
   "outputs": [
    {
     "data": {
      "text/plain": [
       "(tensor([ 0,  5, 13, 13,  1]), tensor([ 5, 13, 13,  1,  0]))"
      ]
     },
     "execution_count": 25,
     "metadata": {},
     "output_type": "execute_result"
    }
   ],
   "source": [
    "xs, ys"
   ]
  },
  {
   "cell_type": "code",
   "execution_count": 45,
   "metadata": {},
   "outputs": [
    {
     "data": {
      "text/plain": [
       "torch.Size([5, 27])"
      ]
     },
     "execution_count": 45,
     "metadata": {},
     "output_type": "execute_result"
    }
   ],
   "source": [
    "x_enc = F.one_hot(xs, num_classes=27).float() # casting to float so nn can work with it\n",
    "x_enc.shape"
   ]
  },
  {
   "cell_type": "code",
   "execution_count": 48,
   "metadata": {},
   "outputs": [
    {
     "data": {
      "text/plain": [
       "<matplotlib.image.AxesImage at 0x18e12d66a70>"
      ]
     },
     "execution_count": 48,
     "metadata": {},
     "output_type": "execute_result"
    },
    {
     "data": {
      "image/png": "[encoded data removed]",
      "text/plain": [
       "<Figure size 640x480 with 1 Axes>"
      ]
     },
     "metadata": {},
     "output_type": "display_data"
    }
   ],
   "source": [
    "plt.imshow(x_enc)"
   ]
  },
  {
   "cell_type": "code",
   "execution_count": 61,
   "metadata": {},
   "outputs": [
    {
     "data": {
      "text/plain": [
       "(tensor([[1., 0., 0., 0., 0., 0., 0., 0., 0., 0., 0., 0., 0., 0., 0., 0., 0., 0.,\n",
       "          0., 0., 0., 0., 0., 0., 0., 0., 0.],\n",
       "         [0., 0., 0., 0., 0., 1., 0., 0., 0., 0., 0., 0., 0., 0., 0., 0., 0., 0.,\n",
       "          0., 0., 0., 0., 0., 0., 0., 0., 0.],\n",
       "         [0., 0., 0., 0., 0., 0., 0., 0., 0., 0., 0., 0., 0., 1., 0., 0., 0., 0.,\n",
       "          0., 0., 0., 0., 0., 0., 0., 0., 0.],\n",
       "         [0., 0., 0., 0., 0., 0., 0., 0., 0., 0., 0., 0., 0., 1., 0., 0., 0., 0.,\n",
       "          0., 0., 0., 0., 0., 0., 0., 0., 0.],\n",
       "         [0., 1., 0., 0., 0., 0., 0., 0., 0., 0., 0., 0., 0., 0., 0., 0., 0., 0.,\n",
       "          0., 0., 0., 0., 0., 0., 0., 0., 0.]]),\n",
       " tensor([[-1.0233],\n",
       "         [ 0.6966],\n",
       "         [ 0.2599],\n",
       "         [-0.6688],\n",
       "         [ 0.5313],\n",
       "         [ 1.4865],\n",
       "         [ 1.6403],\n",
       "         [ 0.3220],\n",
       "         [-1.1828],\n",
       "         [-1.4430],\n",
       "         [ 0.8453],\n",
       "         [ 0.9677],\n",
       "         [-1.3930],\n",
       "         [ 0.3996],\n",
       "         [ 1.7170],\n",
       "         [-0.1110],\n",
       "         [ 0.0720],\n",
       "         [-1.3346],\n",
       "         [-0.1574],\n",
       "         [-0.6806],\n",
       "         [ 1.0903],\n",
       "         [-1.8742],\n",
       "         [-0.1673],\n",
       "         [-1.0986],\n",
       "         [ 0.0215],\n",
       "         [ 0.3334],\n",
       "         [-0.5983]]))"
      ]
     },
     "execution_count": 61,
     "metadata": {},
     "output_type": "execute_result"
    }
   ],
   "source": [
    "x_enc, torch.randn((27, 1))"
   ]
  },
  {
   "cell_type": "code",
   "execution_count": 62,
   "metadata": {},
   "outputs": [
    {
     "data": {
      "text/plain": [
       "tensor([[-0.3634],\n",
       "        [ 1.5080],\n",
       "        [ 0.3771],\n",
       "        [ 0.3771],\n",
       "        [ 0.6264]])"
      ]
     },
     "execution_count": 62,
     "metadata": {},
     "output_type": "execute_result"
    }
   ],
   "source": [
    "# initializing weights\n",
    "# doing matrix multiplication with the encoded x's (batch of multiple)\n",
    "# this will feed in all x's into every neuron at the same time, pytorch can do this in parallel\n",
    "\n",
    "# x_enc (5, 27) @ weights (27, 1) -> (5, 1)\n",
    "\n",
    "W = torch.randn((27, 1)) # -> one neuron, 27 inputs, one for each possible character\n",
    "x_enc @ W # returns (5, 1) for 5 input x's, one activation which is dot product between the encoded x and the weights"
   ]
  },
  {
   "cell_type": "code",
   "execution_count": 63,
   "metadata": {},
   "outputs": [
    {
     "data": {
      "text/plain": [
       "tensor([[ 0.8228, -0.9996,  1.9027, -0.4031, -0.7423,  1.4252, -0.5842, -0.4163,\n",
       "          1.5283, -0.2163, -0.1250, -1.5076,  1.6666, -1.6918,  1.8165,  1.5119,\n",
       "          0.3403,  0.7355, -0.2298, -0.0905, -1.5814, -0.8590,  2.0835,  3.0896,\n",
       "          0.3318, -0.4650, -0.2678],\n",
       "        [ 0.8312, -0.9745,  1.1119, -0.5773,  0.5229,  0.5173,  0.2952, -0.3793,\n",
       "          0.3359, -0.3278, -0.0929, -0.5624, -0.4958, -0.4486,  0.0507,  0.8394,\n",
       "          1.5801,  0.5118, -0.1296,  0.9709,  0.4635, -0.6258,  0.7603, -0.6295,\n",
       "         -0.0763, -0.8423,  1.6255],\n",
       "        [-0.1843,  0.2023, -1.2605, -1.4261,  0.0299, -0.0031,  0.1388,  0.7102,\n",
       "         -0.6734, -0.9918,  0.4269, -0.1277, -0.6256,  0.2464, -0.5267,  2.3556,\n",
       "         -1.1540,  0.1705, -0.0199,  0.2666, -0.9382, -1.0278, -0.9612,  0.9282,\n",
       "         -0.4368, -1.4513, -0.6967],\n",
       "        [-0.1843,  0.2023, -1.2605, -1.4261,  0.0299, -0.0031,  0.1388,  0.7102,\n",
       "         -0.6734, -0.9918,  0.4269, -0.1277, -0.6256,  0.2464, -0.5267,  2.3556,\n",
       "         -1.1540,  0.1705, -0.0199,  0.2666, -0.9382, -1.0278, -0.9612,  0.9282,\n",
       "         -0.4368, -1.4513, -0.6967],\n",
       "        [-0.0254, -0.1557,  1.2283, -0.5568,  0.5874,  1.2198,  0.6772,  0.3699,\n",
       "         -1.1690,  0.6839, -0.0243, -0.1890,  1.1720, -1.0125,  0.4126, -1.1313,\n",
       "          0.1093,  0.5783, -2.1517,  1.7332,  0.1228, -0.7266, -0.3877, -0.1997,\n",
       "         -1.3826,  0.5982, -0.1662]])"
      ]
     },
     "execution_count": 63,
     "metadata": {},
     "output_type": "execute_result"
    }
   ],
   "source": [
    "# x_enc (5, 27) @ weights (27, 27) -> (5, 27)\n",
    "# same but with 27 neurons\n",
    "\n",
    "W = torch.randn((27, 27))\n",
    "x_enc @ W"
   ]
  },
  {
   "cell_type": "code",
   "execution_count": 64,
   "metadata": {},
   "outputs": [
    {
     "data": {
      "text/plain": [
       "torch.Size([5, 27])"
      ]
     },
     "execution_count": 64,
     "metadata": {},
     "output_type": "execute_result"
    }
   ],
   "source": [
    "(x_enc @ W).shape"
   ]
  },
  {
   "cell_type": "code",
   "execution_count": 66,
   "metadata": {},
   "outputs": [
    {
     "data": {
      "text/plain": [
       "tensor(0.2464)"
      ]
     },
     "execution_count": 66,
     "metadata": {},
     "output_type": "execute_result"
    }
   ],
   "source": [
    "(x_enc @ W)[3, 13] # 3rd x, 13th neuron"
   ]
  },
  {
   "cell_type": "code",
   "execution_count": 67,
   "metadata": {},
   "outputs": [],
   "source": [
    "# W has weights in columns, each col is a neuron\n",
    "# input has same number of columns as number of rows in W -> each row in x_enc is dotted with each row in W"
   ]
  },
  {
   "cell_type": "code",
   "execution_count": 68,
   "metadata": {},
   "outputs": [
    {
     "data": {
      "text/plain": [
       "tensor([0., 0., 0., 0., 0., 0., 0., 0., 0., 0., 0., 0., 0., 1., 0., 0., 0., 0.,\n",
       "        0., 0., 0., 0., 0., 0., 0., 0., 0.])"
      ]
     },
     "execution_count": 68,
     "metadata": {},
     "output_type": "execute_result"
    }
   ],
   "source": [
    "x_enc[3]"
   ]
  },
  {
   "cell_type": "code",
   "execution_count": 70,
   "metadata": {},
   "outputs": [
    {
     "data": {
      "text/plain": [
       "tensor([-0.1843,  0.2023, -1.2605, -1.4261,  0.0299, -0.0031,  0.1388,  0.7102,\n",
       "        -0.6734, -0.9918,  0.4269, -0.1277, -0.6256,  0.2464, -0.5267,  2.3556,\n",
       "        -1.1540,  0.1705, -0.0199,  0.2666, -0.9382, -1.0278, -0.9612,  0.9282,\n",
       "        -0.4368, -1.4513, -0.6967])"
      ]
     },
     "execution_count": 70,
     "metadata": {},
     "output_type": "execute_result"
    }
   ],
   "source": [
    "W[13]"
   ]
  },
  {
   "cell_type": "code",
   "execution_count": 71,
   "metadata": {},
   "outputs": [
    {
     "data": {
      "text/plain": [
       "tensor(0.2464)"
      ]
     },
     "execution_count": 71,
     "metadata": {},
     "output_type": "execute_result"
    }
   ],
   "source": [
    "(x_enc[3] * W[:, 13]).sum()"
   ]
  },
  {
   "cell_type": "code",
   "execution_count": 88,
   "metadata": {},
   "outputs": [
    {
     "data": {
      "text/plain": [
       "tensor([[ 2.2768,  0.3680,  6.7040,  0.6683,  0.4760,  4.1587,  0.5575,  0.6595,\n",
       "          4.6104,  0.8055,  0.8825,  0.2214,  5.2943,  0.1842,  6.1506,  4.5353,\n",
       "          1.4053,  2.0865,  0.7947,  0.9135,  0.2057,  0.4236,  8.0329, 21.9681,\n",
       "          1.3934,  0.6281,  0.7650],\n",
       "        [ 2.2961,  0.3774,  3.0401,  0.5614,  1.6870,  1.6774,  1.3435,  0.6843,\n",
       "          1.3991,  0.7205,  0.9113,  0.5699,  0.6091,  0.6385,  1.0520,  2.3150,\n",
       "          4.8555,  1.6683,  0.8784,  2.6404,  1.5897,  0.5348,  2.1388,  0.5328,\n",
       "          0.9266,  0.4307,  5.0812],\n",
       "        [ 0.8317,  1.2242,  0.2835,  0.2402,  1.0303,  0.9969,  1.1489,  2.0344,\n",
       "          0.5100,  0.3709,  1.5325,  0.8801,  0.5349,  1.2794,  0.5906, 10.5446,\n",
       "          0.3154,  1.1859,  0.9803,  1.3055,  0.3913,  0.3578,  0.3824,  2.5301,\n",
       "          0.6461,  0.2343,  0.4982],\n",
       "        [ 0.8317,  1.2242,  0.2835,  0.2402,  1.0303,  0.9969,  1.1489,  2.0344,\n",
       "          0.5100,  0.3709,  1.5325,  0.8801,  0.5349,  1.2794,  0.5906, 10.5446,\n",
       "          0.3154,  1.1859,  0.9803,  1.3055,  0.3913,  0.3578,  0.3824,  2.5301,\n",
       "          0.6461,  0.2343,  0.4982],\n",
       "        [ 0.9749,  0.8558,  3.4153,  0.5730,  1.7992,  3.3865,  1.9684,  1.4476,\n",
       "          0.3107,  1.9815,  0.9760,  0.8278,  3.2286,  0.3633,  1.5107,  0.3226,\n",
       "          1.1155,  1.7830,  0.1163,  5.6586,  1.1307,  0.4836,  0.6786,  0.8190,\n",
       "          0.2509,  1.8188,  0.8468]])"
      ]
     },
     "execution_count": 88,
     "metadata": {},
     "output_type": "execute_result"
    }
   ],
   "source": [
    "# we need something interpretable from the model\n",
    "# going back to the matrix of counts and then probs we had in the other bigram model\n",
    "# we make 27 neurons each getting 27 inputs from the one hot encoded character\n",
    "\n",
    "(x_enc @ W).exp() # exponentiate to make values negative between 0 and 1 and positive more positive<"
   ]
  },
  {
   "cell_type": "code",
   "execution_count": 91,
   "metadata": {},
   "outputs": [
    {
     "data": {
      "text/plain": [
       "torch.Size([5, 27])"
      ]
     },
     "execution_count": 91,
     "metadata": {},
     "output_type": "execute_result"
    }
   ],
   "source": [
    "(x_enc @ W).exp().shape"
   ]
  },
  {
   "cell_type": "code",
   "execution_count": 90,
   "metadata": {},
   "outputs": [
    {
     "data": {
      "text/plain": [
       "tensor([[0.0295, 0.0048, 0.0869, 0.0087, 0.0062, 0.0539, 0.0072, 0.0085, 0.0597,\n",
       "         0.0104, 0.0114, 0.0029, 0.0686, 0.0024, 0.0797, 0.0588, 0.0182, 0.0270,\n",
       "         0.0103, 0.0118, 0.0027, 0.0055, 0.1041, 0.2847, 0.0181, 0.0081, 0.0099],\n",
       "        [0.0558, 0.0092, 0.0739, 0.0136, 0.0410, 0.0408, 0.0326, 0.0166, 0.0340,\n",
       "         0.0175, 0.0221, 0.0138, 0.0148, 0.0155, 0.0256, 0.0562, 0.1180, 0.0405,\n",
       "         0.0213, 0.0642, 0.0386, 0.0130, 0.0520, 0.0129, 0.0225, 0.0105, 0.1235],\n",
       "        [0.0253, 0.0373, 0.0086, 0.0073, 0.0314, 0.0303, 0.0350, 0.0619, 0.0155,\n",
       "         0.0113, 0.0466, 0.0268, 0.0163, 0.0389, 0.0180, 0.3209, 0.0096, 0.0361,\n",
       "         0.0298, 0.0397, 0.0119, 0.0109, 0.0116, 0.0770, 0.0197, 0.0071, 0.0152],\n",
       "        [0.0253, 0.0373, 0.0086, 0.0073, 0.0314, 0.0303, 0.0350, 0.0619, 0.0155,\n",
       "         0.0113, 0.0466, 0.0268, 0.0163, 0.0389, 0.0180, 0.3209, 0.0096, 0.0361,\n",
       "         0.0298, 0.0397, 0.0119, 0.0109, 0.0116, 0.0770, 0.0197, 0.0071, 0.0152],\n",
       "        [0.0252, 0.0221, 0.0884, 0.0148, 0.0466, 0.0876, 0.0509, 0.0375, 0.0080,\n",
       "         0.0513, 0.0253, 0.0214, 0.0835, 0.0094, 0.0391, 0.0083, 0.0289, 0.0461,\n",
       "         0.0030, 0.1464, 0.0293, 0.0125, 0.0176, 0.0212, 0.0065, 0.0471, 0.0219]])"
      ]
     },
     "execution_count": 90,
     "metadata": {},
     "output_type": "execute_result"
    }
   ],
   "source": [
    "logits = x_enc @ W # log counts\n",
    "counts = logits.exp() # equivalent to counts matrix we had in other bigram model\n",
    "probs = counts / counts.sum(1, keepdims=True) # normalize again across columns to get probs\n",
    "# => this is a softmax activation function\n",
    "# > allows to take in positive and negative numbers from a previous layer and makes them into a probability distribution\n",
    "#   with numbers between 0 and 1 and that sums to 1\n",
    "probs"
   ]
  },
  {
   "cell_type": "code",
   "execution_count": 87,
   "metadata": {},
   "outputs": [
    {
     "data": {
      "text/plain": [
       "torch.Size([5, 27])"
      ]
     },
     "execution_count": 87,
     "metadata": {},
     "output_type": "execute_result"
    }
   ],
   "source": [
    "probs.shape # we get a matrix with 5 "
   ]
  },
  {
   "cell_type": "code",
   "execution_count": 86,
   "metadata": {},
   "outputs": [
    {
     "data": {
      "text/plain": [
       "tensor(1.)"
      ]
     },
     "execution_count": 86,
     "metadata": {},
     "output_type": "execute_result"
    }
   ],
   "source": [
    "probs[0].sum()"
   ]
  },
  {
   "cell_type": "code",
   "execution_count": 105,
   "metadata": {},
   "outputs": [
    {
     "name": "stdout",
     "output_type": "stream",
     "text": [
      "- - - - - -\n",
      "bigram: ., e at 0, y\n",
      "input: 0\n",
      "output: tensor([0.0295, 0.0048, 0.0869, 0.0087, 0.0062, 0.0539, 0.0072, 0.0085, 0.0597,\n",
      "        0.0104, 0.0114, 0.0029, 0.0686, 0.0024, 0.0797, 0.0588, 0.0182, 0.0270,\n",
      "        0.0103, 0.0118, 0.0027, 0.0055, 0.1041, 0.2847, 0.0181, 0.0081, 0.0099])\n",
      "actual: 5\n",
      "prob by nn: 0.05389027297496796\n",
      "log likelihood : -2.9208052158355713\n",
      "negative log likelihood: 2.9208052158355713\n",
      "- - - - - -\n",
      "bigram: e, m at 5, y\n",
      "input: 5\n",
      "output: tensor([0.0558, 0.0092, 0.0739, 0.0136, 0.0410, 0.0408, 0.0326, 0.0166, 0.0340,\n",
      "        0.0175, 0.0221, 0.0138, 0.0148, 0.0155, 0.0256, 0.0562, 0.1180, 0.0405,\n",
      "        0.0213, 0.0642, 0.0386, 0.0130, 0.0520, 0.0129, 0.0225, 0.0105, 0.1235])\n",
      "actual: 13\n",
      "prob by nn: 0.01551350299268961\n",
      "log likelihood : -4.166044235229492\n",
      "negative log likelihood: 4.166044235229492\n",
      "- - - - - -\n",
      "bigram: m, m at 13, y\n",
      "input: 13\n",
      "output: tensor([0.0253, 0.0373, 0.0086, 0.0073, 0.0314, 0.0303, 0.0350, 0.0619, 0.0155,\n",
      "        0.0113, 0.0466, 0.0268, 0.0163, 0.0389, 0.0180, 0.3209, 0.0096, 0.0361,\n",
      "        0.0298, 0.0397, 0.0119, 0.0109, 0.0116, 0.0770, 0.0197, 0.0071, 0.0152])\n",
      "actual: 13\n",
      "prob by nn: 0.038934994488954544\n",
      "log likelihood : -3.245861768722534\n",
      "negative log likelihood: 3.245861768722534\n",
      "- - - - - -\n",
      "bigram: m, a at 13, y\n",
      "input: 13\n",
      "output: tensor([0.0253, 0.0373, 0.0086, 0.0073, 0.0314, 0.0303, 0.0350, 0.0619, 0.0155,\n",
      "        0.0113, 0.0466, 0.0268, 0.0163, 0.0389, 0.0180, 0.3209, 0.0096, 0.0361,\n",
      "        0.0298, 0.0397, 0.0119, 0.0109, 0.0116, 0.0770, 0.0197, 0.0071, 0.0152])\n",
      "actual: 1\n",
      "prob by nn: 0.03725524991750717\n",
      "log likelihood : -3.2899622917175293\n",
      "negative log likelihood: 3.2899622917175293\n",
      "- - - - - -\n",
      "bigram: a, . at 1, y\n",
      "input: 1\n",
      "output: tensor([0.0252, 0.0221, 0.0884, 0.0148, 0.0466, 0.0876, 0.0509, 0.0375, 0.0080,\n",
      "        0.0513, 0.0253, 0.0214, 0.0835, 0.0094, 0.0391, 0.0083, 0.0289, 0.0461,\n",
      "        0.0030, 0.1464, 0.0293, 0.0125, 0.0176, 0.0212, 0.0065, 0.0471, 0.0219])\n",
      "actual: 0\n",
      "prob by nn: 0.02522744983434677\n",
      "log likelihood : -3.6798226833343506\n",
      "negative log likelihood: 3.6798226833343506\n",
      "======\n",
      "average nll/loss =  3.4604992866516113\n"
     ]
    }
   ],
   "source": [
    "nlls = torch.zeros(5)\n",
    "for i in range(5):\n",
    "    x = xs[i].item()\n",
    "    y = ys[i].item()\n",
    "    print(\"- - - - - -\")\n",
    "    print(f\"bigram: {idx2char[x]}, {idx2char[y]} at {x}, y\")\n",
    "    print(f\"input: {x}\")\n",
    "    print(f\"output: {probs[i]}\")\n",
    "    print(f\"actual: {y}\")\n",
    "    prob = probs[i, y]\n",
    "    print(f\"prob by nn: {prob}\")\n",
    "    logp = torch.log(prob)\n",
    "    print(f\"log likelihood : {logp}\")\n",
    "    nll = -logp\n",
    "    print(f\"negative log likelihood: {nll}\")\n",
    "    nlls[i] = nll\n",
    "\n",
    "print(\"======\")\n",
    "print(\"average nll/loss = \", nlls.mean().item())"
   ]
  },
  {
   "attachments": {},
   "cell_type": "markdown",
   "metadata": {},
   "source": [
    "## Optimization"
   ]
  },
  {
   "cell_type": "code",
   "execution_count": 106,
   "metadata": {},
   "outputs": [
    {
     "data": {
      "text/plain": [
       "(tensor([ 0,  5, 13, 13,  1]), tensor([ 5, 13, 13,  1,  0]))"
      ]
     },
     "execution_count": 106,
     "metadata": {},
     "output_type": "execute_result"
    }
   ],
   "source": [
    "xs, ys"
   ]
  },
  {
   "cell_type": "code",
   "execution_count": 141,
   "metadata": {},
   "outputs": [],
   "source": [
    "W = torch.randn((27, 27), requires_grad=True)"
   ]
  },
  {
   "attachments": {},
   "cell_type": "markdown",
   "metadata": {},
   "source": [
    "### Forward pass"
   ]
  },
  {
   "cell_type": "code",
   "execution_count": 147,
   "metadata": {},
   "outputs": [],
   "source": [
    "xenc = F.one_hot(xs, num_classes=27).float() # input to nn, one hot encoding\n",
    "logits = x_enc @ W # predict log counts\n",
    "counts = logits.exp() # counts equivalent to N in other bigram model\n",
    "probs = counts / counts.sum(1, keepdim=True) # probabilities for next character"
   ]
  },
  {
   "cell_type": "code",
   "execution_count": 148,
   "metadata": {},
   "outputs": [
    {
     "data": {
      "text/plain": [
       "tensor([0.0268, 0.0802, 0.1136, 0.0294, 0.0155], grad_fn=<IndexBackward0>)"
      ]
     },
     "execution_count": 148,
     "metadata": {},
     "output_type": "execute_result"
    }
   ],
   "source": [
    "probs[torch.arange(5), ys] # probabilities for the next characters for each input character"
   ]
  },
  {
   "cell_type": "code",
   "execution_count": 149,
   "metadata": {},
   "outputs": [
    {
     "data": {
      "text/plain": [
       "3.202836513519287"
      ]
     },
     "execution_count": 149,
     "metadata": {},
     "output_type": "execute_result"
    }
   ],
   "source": [
    "loss = -probs[torch.arange(5), ys].log().mean()\n",
    "loss.item()"
   ]
  },
  {
   "attachments": {},
   "cell_type": "markdown",
   "metadata": {},
   "source": [
    "### Backward pass"
   ]
  },
  {
   "cell_type": "code",
   "execution_count": 145,
   "metadata": {},
   "outputs": [],
   "source": [
    "W.grad = None # set the gradients to 0\n",
    "loss.backward() # calculate the gradients"
   ]
  },
  {
   "cell_type": "code",
   "execution_count": 146,
   "metadata": {},
   "outputs": [],
   "source": [
    "W.data += -0.1 * W.grad"
   ]
  },
  {
   "attachments": {},
   "cell_type": "markdown",
   "metadata": {},
   "source": [
    "### Repeat"
   ]
  },
  {
   "cell_type": "code",
   "execution_count": 159,
   "metadata": {},
   "outputs": [
    {
     "data": {
      "text/plain": [
       "228146"
      ]
     },
     "execution_count": 159,
     "metadata": {},
     "output_type": "execute_result"
    }
   ],
   "source": [
    "# training set\n",
    "xs, ys = [], []\n",
    "\n",
    "for name in names: # use all names this time\n",
    "    chrs = [\".\"] + list(name) + [\".\"]\n",
    "    for ch1, ch2 in zip(chrs, chrs[1:]):\n",
    "        idx1 = char2idx[ch1]\n",
    "        idx2 = char2idx[ch2]\n",
    "        xs.append(idx1)\n",
    "        ys.append(idx2)\n",
    "\n",
    "xs = torch.tensor(xs)\n",
    "ys = torch.tensor(ys)\n",
    "num = xs.nelement()\n",
    "num"
   ]
  },
  {
   "cell_type": "code",
   "execution_count": 166,
   "metadata": {},
   "outputs": [
    {
     "name": "stdout",
     "output_type": "stream",
     "text": [
      "0: 3.8021247386932373\n",
      "1: 3.4208505153656006\n",
      "2: 3.202785015106201\n",
      "3: 3.054253339767456\n",
      "4: 2.9474921226501465\n",
      "5: 2.867751359939575\n",
      "6: 2.8077304363250732\n",
      "7: 2.7623510360717773\n",
      "8: 2.727447748184204\n",
      "9: 2.6998727321624756\n",
      "10: 2.6774744987487793\n",
      "11: 2.65885329246521\n",
      "12: 2.643097162246704\n",
      "13: 2.62959361076355\n",
      "14: 2.6179041862487793\n",
      "15: 2.60770320892334\n",
      "16: 2.5987367630004883\n",
      "17: 2.5908045768737793\n",
      "18: 2.583744764328003\n",
      "19: 2.5774283409118652\n",
      "20: 2.5717477798461914\n",
      "21: 2.566615104675293\n",
      "22: 2.5619583129882812\n",
      "23: 2.5577166080474854\n",
      "24: 2.5538387298583984\n",
      "25: 2.550281047821045\n",
      "26: 2.5470077991485596\n",
      "27: 2.5439865589141846\n",
      "28: 2.5411901473999023\n",
      "29: 2.5385959148406982\n",
      "30: 2.5361826419830322\n",
      "31: 2.533933162689209\n",
      "32: 2.5318315029144287\n",
      "33: 2.52986478805542\n",
      "34: 2.528020143508911\n",
      "35: 2.5262868404388428\n",
      "36: 2.524656295776367\n",
      "37: 2.5231192111968994\n",
      "38: 2.5216686725616455\n",
      "39: 2.5202977657318115\n",
      "40: 2.519000291824341\n",
      "41: 2.517770528793335\n",
      "42: 2.516603708267212\n",
      "43: 2.515495777130127\n",
      "44: 2.514441967010498\n",
      "45: 2.513439178466797\n",
      "46: 2.512483835220337\n",
      "47: 2.5115721225738525\n",
      "48: 2.510701894760132\n",
      "49: 2.5098705291748047\n",
      "50: 2.5090749263763428\n",
      "51: 2.5083136558532715\n",
      "52: 2.507584571838379\n",
      "53: 2.506884813308716\n",
      "54: 2.506213665008545\n",
      "55: 2.5055692195892334\n",
      "56: 2.5049495697021484\n",
      "57: 2.5043535232543945\n",
      "58: 2.5037803649902344\n",
      "59: 2.503227710723877\n",
      "60: 2.502695322036743\n",
      "61: 2.5021817684173584\n",
      "62: 2.5016863346099854\n",
      "63: 2.5012073516845703\n",
      "64: 2.5007455348968506\n",
      "65: 2.500298023223877\n",
      "66: 2.4998655319213867\n",
      "67: 2.4994473457336426\n",
      "68: 2.49904203414917\n",
      "69: 2.4986495971679688\n",
      "70: 2.4982690811157227\n",
      "71: 2.4979002475738525\n",
      "72: 2.497542381286621\n",
      "73: 2.49719500541687\n",
      "74: 2.4968578815460205\n",
      "75: 2.496530532836914\n",
      "76: 2.4962124824523926\n",
      "77: 2.495903491973877\n",
      "78: 2.495603084564209\n",
      "79: 2.4953110218048096\n",
      "80: 2.4950263500213623\n",
      "81: 2.4947500228881836\n",
      "82: 2.494480848312378\n",
      "83: 2.4942188262939453\n",
      "84: 2.4939637184143066\n",
      "85: 2.4937150478363037\n",
      "86: 2.4934730529785156\n",
      "87: 2.493237018585205\n",
      "88: 2.493006944656372\n",
      "89: 2.4927830696105957\n",
      "90: 2.4925649166107178\n",
      "91: 2.492351531982422\n",
      "92: 2.492143392562866\n",
      "93: 2.491940498352051\n",
      "94: 2.4917426109313965\n",
      "95: 2.491549491882324\n",
      "96: 2.491360902786255\n",
      "97: 2.4911768436431885\n",
      "98: 2.490997076034546\n",
      "99: 2.490821361541748\n"
     ]
    }
   ],
   "source": [
    "W = torch.randn((27, 27), requires_grad=True)\n",
    "\n",
    "losses = []\n",
    "for k in range(100):\n",
    "\n",
    "    # forward\n",
    "    x_enc = F.one_hot(xs, num_classes=27).float()\n",
    "    logits = x_enc @ W\n",
    "    counts = logits.exp()\n",
    "    probs = counts / counts.sum(1, keepdim=True)\n",
    "    loss = -probs[torch.arange(num), ys].log().mean() + 0.01*(W**2).mean() # loss + regularization (see model smoothing in other bigrams)\n",
    "\n",
    "    # backward\n",
    "    W.grad = None\n",
    "    loss.backward()\n",
    "\n",
    "    # update\n",
    "    W.data += -50 * W.grad\n",
    "\n",
    "    print(f\"{k}: {loss.item()}\")\n",
    "    losses.append(loss.item())"
   ]
  },
  {
   "cell_type": "code",
   "execution_count": 167,
   "metadata": {},
   "outputs": [
    {
     "data": {
      "text/plain": [
       "[<matplotlib.lines.Line2D at 0x18e1a818700>]"
      ]
     },
     "execution_count": 167,
     "metadata": {},
     "output_type": "execute_result"
    },
    {
     "data": {
      "image/png": "[encoded data removed]",
      "text/plain": [
       "<Figure size 640x480 with 1 Axes>"
      ]
     },
     "metadata": {},
     "output_type": "display_data"
    }
   ],
   "source": [
    "plt.plot(losses)"
   ]
  },
  {
   "attachments": {},
   "cell_type": "markdown",
   "metadata": {},
   "source": [
    "- this gets quite close to the manual approach before, this time with gradient based learning\n",
    "- makes sense that it's not better because there is no additional information\n",
    "- easier here to keep them in a table, gradient based is much more flexible in how it can be expanded\n",
    "\n",
    "- only thing that will fundamentally change is how we get logits. we can in more information here"
   ]
  },
  {
   "cell_type": "code",
   "execution_count": 173,
   "metadata": {},
   "outputs": [
    {
     "name": "stdout",
     "output_type": "stream",
     "text": [
      "e.\n",
      "yayashusha.\n",
      "sia.\n",
      "ma.\n",
      "kaha.\n",
      "rer.\n",
      "kj.\n",
      "klinditigfl.\n",
      "aryza.\n",
      "tene.\n"
     ]
    }
   ],
   "source": [
    "for i in range(10):\n",
    "\n",
    "    out = []\n",
    "    ix = 0\n",
    "    while True:\n",
    "        x_enc = F.one_hot(torch.tensor([ix]), num_classes=27).float()\n",
    "        logits = x_enc @ W\n",
    "        counts = logits.exp()\n",
    "        probs = counts / counts.sum(1, keepdim=True)\n",
    "\n",
    "        ix = torch.multinomial(probs, num_samples=1, replacement=True).item()\n",
    "        out.append(idx2char[ix])\n",
    "        if ix == 0:\n",
    "            break\n",
    "    print(\"\".join(out))"
   ]
  }
 ],
 "metadata": {
  "kernelspec": {
   "display_name": "venv",
   "language": "python",
   "name": "python3"
  },
  "language_info": {
   "codemirror_mode": {
    "name": "ipython",
    "version": 3
   },
   "file_extension": ".py",
   "mimetype": "text/x-python",
   "name": "python",
   "nbconvert_exporter": "python",
   "pygments_lexer": "ipython3",
   "version": "3.10.7"
  },
  "orig_nbformat": 4
 },
 "nbformat": 4,
 "nbformat_minor": 2
}
